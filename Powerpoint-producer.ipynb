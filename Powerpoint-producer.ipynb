{
 "cells": [
  {
   "cell_type": "code",
   "execution_count": 33,
   "metadata": {},
   "outputs": [
    {
     "ename": "AttributeError",
     "evalue": "'list' object has no attribute 'rId'",
     "output_type": "error",
     "traceback": [
      "\u001b[1;31m---------------------------------------------------------------------------\u001b[0m",
      "\u001b[1;31mAttributeError\u001b[0m                            Traceback (most recent call last)",
      "\u001b[1;32m<ipython-input-33-26a76fd21b5d>\u001b[0m in \u001b[0;36m<module>\u001b[1;34m\u001b[0m\n\u001b[0;32m    151\u001b[0m \u001b[1;31m#   del prs.slides._sldIdLst[i]\u001b[0m\u001b[1;33m\u001b[0m\u001b[1;33m\u001b[0m\u001b[1;33m\u001b[0m\u001b[0m\n\u001b[0;32m    152\u001b[0m \u001b[1;33m\u001b[0m\u001b[0m\n\u001b[1;32m--> 153\u001b[1;33m \u001b[1;32mfor\u001b[0m \u001b[0mslide\u001b[0m \u001b[1;32min\u001b[0m \u001b[0mprs\u001b[0m\u001b[1;33m.\u001b[0m\u001b[0mslides\u001b[0m\u001b[1;33m[\u001b[0m\u001b[1;36m1\u001b[0m\u001b[1;33m:\u001b[0m\u001b[1;36m4\u001b[0m\u001b[1;33m]\u001b[0m\u001b[1;33m:\u001b[0m\u001b[1;33m\u001b[0m\u001b[1;33m\u001b[0m\u001b[0m\n\u001b[0m\u001b[0;32m    154\u001b[0m     \u001b[0mdelete_slide\u001b[0m\u001b[1;33m(\u001b[0m\u001b[0mprs\u001b[0m\u001b[1;33m,\u001b[0m\u001b[0mslide\u001b[0m\u001b[1;33m)\u001b[0m\u001b[1;33m\u001b[0m\u001b[1;33m\u001b[0m\u001b[0m\n\u001b[0;32m    155\u001b[0m \u001b[1;33m\u001b[0m\u001b[0m\n",
      "\u001b[1;32m~\\AppData\\Local\\Continuum\\anaconda3\\lib\\site-packages\\pptx\\slide.py\u001b[0m in \u001b[0;36m__getitem__\u001b[1;34m(self, idx)\u001b[0m\n\u001b[0;32m    271\u001b[0m         \u001b[1;32mexcept\u001b[0m \u001b[0mIndexError\u001b[0m\u001b[1;33m:\u001b[0m\u001b[1;33m\u001b[0m\u001b[1;33m\u001b[0m\u001b[0m\n\u001b[0;32m    272\u001b[0m             \u001b[1;32mraise\u001b[0m \u001b[0mIndexError\u001b[0m\u001b[1;33m(\u001b[0m\u001b[1;34m\"slide index out of range\"\u001b[0m\u001b[1;33m)\u001b[0m\u001b[1;33m\u001b[0m\u001b[1;33m\u001b[0m\u001b[0m\n\u001b[1;32m--> 273\u001b[1;33m         \u001b[1;32mreturn\u001b[0m \u001b[0mself\u001b[0m\u001b[1;33m.\u001b[0m\u001b[0mpart\u001b[0m\u001b[1;33m.\u001b[0m\u001b[0mrelated_slide\u001b[0m\u001b[1;33m(\u001b[0m\u001b[0msldId\u001b[0m\u001b[1;33m.\u001b[0m\u001b[0mrId\u001b[0m\u001b[1;33m)\u001b[0m\u001b[1;33m\u001b[0m\u001b[1;33m\u001b[0m\u001b[0m\n\u001b[0m\u001b[0;32m    274\u001b[0m \u001b[1;33m\u001b[0m\u001b[0m\n\u001b[0;32m    275\u001b[0m     \u001b[1;32mdef\u001b[0m \u001b[0m__iter__\u001b[0m\u001b[1;33m(\u001b[0m\u001b[0mself\u001b[0m\u001b[1;33m)\u001b[0m\u001b[1;33m:\u001b[0m\u001b[1;33m\u001b[0m\u001b[1;33m\u001b[0m\u001b[0m\n",
      "\u001b[1;31mAttributeError\u001b[0m: 'list' object has no attribute 'rId'"
     ]
    }
   ],
   "source": [
    "#!/usr/bin/env python\n",
    " \n",
    "'''\n",
    "Powerpoint-producer.ipynb\n",
    "A. J. McCulloch, February 2020\n",
    "'''\n",
    "\n",
    "####################################################################################################\n",
    "# Import modules\n",
    "####################################################################################################\n",
    "\n",
    "from pptx import Presentation\n",
    "from pptx.util import Cm, Pt\n",
    "from datetime import date\n",
    "\n",
    "\"\"\"\n",
    "The tricky bit of all of this is addressing the correct placeholder.\n",
    "For the UTAS template, I have pulled the placeholders via the code below\n",
    "\"\"\"\n",
    "\n",
    "#for shape in slide.placeholders:\n",
    "#    print('%d %s' % (shape.placeholder_format.idx, shape.name))\n",
    "\n",
    "\"\"\"\n",
    "This returned the following:\n",
    "\n",
    "Title slide is prs.slide_layouts[0]\n",
    "and slide.placeholders are:\n",
    "0 Title 1\n",
    "1 Subtitle 2\n",
    "10 Text Placeholder 3\n",
    "\n",
    "Section slide is prs.slide_layouts[1]\n",
    "and slide.placeholders are:\n",
    "0 Title 1\n",
    "\n",
    "Storyline slide is prs.slide_layouts[2]\n",
    "and slide.placeholders are:\n",
    "0 Title 2\n",
    "17 Text Placeholder 9\n",
    "28 Text Placeholder 3\n",
    "29 Text Placeholder 4\n",
    "30 Text Placeholder 5\n",
    "51 Text Placeholder 6\n",
    "52 Text Placeholder 1\n",
    "53 Text Placeholder 7\n",
    "54 Text Placeholder 8\n",
    "\n",
    "Chart slide is prs.slide_layouts[4]\n",
    "and slide.placeholders are:\n",
    "0 Title 1\n",
    "17 Text Placeholder 4\n",
    "18 Chart Placeholder 6\n",
    "19 Text Placeholder 2\n",
    "20 Text Placeholder 3\n",
    "23 Text Placeholder 5\n",
    "\"\"\"\n",
    "\n",
    "####################################################################################################\n",
    "####################################################################################################\n",
    "# Code starts here\n",
    "####################################################################################################\n",
    "####################################################################################################\n",
    "\n",
    "prs = Presentation(r'UTAS_template.pptx') # Load the template powerpoint\n",
    "\n",
    "####################################################################################################\n",
    "# Title slide\n",
    "####################################################################################################\n",
    "\n",
    "title_layout = prs.slide_layouts[0] # Set the slide layout\n",
    "slide = prs.slides.add_slide(title_layout) # Add the slide\n",
    "# Title slide attributes\n",
    "title = slide.shapes.title # Title\n",
    "subtitle = slide.placeholders[1] # Subtitle\n",
    "date_created = slide.placeholders[10] # Date\n",
    "\n",
    "title.text = \"This is the title text\"\n",
    "subtitle.text = \"This is the subtitle\"\n",
    "date_created.text = \"{:%d/%m/%Y}\".format(date.today())\n",
    "\n",
    "####################################################################################################\n",
    "# Section slide\n",
    "####################################################################################################\n",
    "\n",
    "section_layout = prs.slide_layouts[1] # Set the slide layout\n",
    "slide = prs.slides.add_slide(section_layout) # Add the slide\n",
    "# Section slide attribute\n",
    "section = slide.shapes.title # Title\n",
    "\n",
    "section.text = \"This is the section\"\n",
    "\n",
    "####################################################################################################\n",
    "# Storyline slide\n",
    "####################################################################################################\n",
    "\n",
    "storyline_layout = prs.slide_layouts[2] # Set the slide layout\n",
    "slide = prs.slides.add_slide(storyline_layout) # Add the slide\n",
    "# Storyline slide attributes\n",
    "storyline = slide.shapes.title # Title\n",
    "question = slide.placeholders[51]\n",
    "situation = slide.placeholders[54]\n",
    "complication = slide.placeholders[53]\n",
    "resolution = slide.placeholders[52]\n",
    "situation_overview = slide.placeholders[30]\n",
    "complication_overview = slide.placeholders[28]\n",
    "resolution_overview = slide.placeholders[29]\n",
    "source = slide.placeholders[17]\n",
    "\n",
    "storyline.text = \"This is the story\"\n",
    "question.text = \"This is a question\"\n",
    "situation.text = \"This is a situation\"\n",
    "complication.text = \"This is a complication\"\n",
    "resolution.text = \"This is a resolution\"\n",
    "situation_overview.text = \"This is a situation overview\"\n",
    "complication_overview.text = \"This is a complication overview\"\n",
    "resolution_overview.text = \"This is a resolution overview\"\n",
    "source.text = \"This is a source\"\n",
    "\n",
    "####################################################################################################\n",
    "# Chart slide\n",
    "####################################################################################################\n",
    "\n",
    "chart_layout = prs.slide_layouts[3] # Set the slide layout\n",
    "slide = prs.slides.add_slide(chart_layout) # Add the slide\n",
    "# Chart slide attributes\n",
    "title = slide.shapes.title # Title\n",
    "chart_title = slide.placeholders[23]\n",
    "chart = slide.placeholders[18]\n",
    "takeaway = slide.placeholders[20]\n",
    "overview = slide.placeholders[19]\n",
    "source = slide.placeholders[17]\n",
    "\n",
    "\n",
    "title.text = \"This is a title\"\n",
    "chart_title.text = \"This is a chart title\"\n",
    "#chart = slide.placeholders[18]\n",
    "takeaway.text = \"This is the takeaway text\"\n",
    "overview.text = \"This is the overview text\"\n",
    "source.text = \"This is the source\"\n",
    "\n",
    "img_path = 'Placeholder.jpg'\n",
    "left = Cm(5)\n",
    "height = Cm(5.5)\n",
    "#pic = slide.shapes.add_picture(img_path, left, top, height=height)\n",
    "\n",
    "\n",
    "#for i in range(1,4) : \n",
    "#   rId = prs.slides._sldIdLst[i].rId\n",
    "#   prs.part.drop_rel(rId)\n",
    "#   del prs.slides._sldIdLst[i]\n",
    "\n",
    "for slide in prs.slides[1:4]:\n",
    "    delete_slide(prs,slide)\n",
    "\n",
    "\n",
    "prs.save('test.pptx')"
   ]
  },
  {
   "cell_type": "code",
   "execution_count": 154,
   "metadata": {},
   "outputs": [
    {
     "name": "stdout",
     "output_type": "stream",
     "text": [
      "0 Title 1\n",
      "17 Text Placeholder 4\n",
      "18 Chart Placeholder 6\n",
      "19 Text Placeholder 2\n",
      "20 Text Placeholder 3\n",
      "23 Text Placeholder 5\n"
     ]
    }
   ],
   "source": [
    "for shape in slide.placeholders:\n",
    "    print('%d %s' % (shape.placeholder_format.idx, shape.name))"
   ]
  },
  {
   "cell_type": "code",
   "execution_count": 9,
   "metadata": {},
   "outputs": [
    {
     "ename": "NameError",
     "evalue": "name 'datetime' is not defined",
     "output_type": "error",
     "traceback": [
      "\u001b[1;31m---------------------------------------------------------------------------\u001b[0m",
      "\u001b[1;31mNameError\u001b[0m                                 Traceback (most recent call last)",
      "\u001b[1;32m<ipython-input-9-6dc7777842b5>\u001b[0m in \u001b[0;36m<module>\u001b[1;34m\u001b[0m\n\u001b[1;32m----> 1\u001b[1;33m \u001b[0mdatetime\u001b[0m\u001b[1;33m.\u001b[0m\u001b[0mtoday\u001b[0m\u001b[1;33m(\u001b[0m\u001b[1;33m)\u001b[0m\u001b[1;33m\u001b[0m\u001b[1;33m\u001b[0m\u001b[0m\n\u001b[0m",
      "\u001b[1;31mNameError\u001b[0m: name 'datetime' is not defined"
     ]
    }
   ],
   "source": [
    "datetime.today()"
   ]
  },
  {
   "cell_type": "code",
   "execution_count": 10,
   "metadata": {},
   "outputs": [],
   "source": [
    "from datetime import date\n",
    "\n",
    "today = date.today()"
   ]
  },
  {
   "cell_type": "code",
   "execution_count": 11,
   "metadata": {},
   "outputs": [
    {
     "data": {
      "text/plain": [
       "datetime.date(2020, 2, 20)"
      ]
     },
     "execution_count": 11,
     "metadata": {},
     "output_type": "execute_result"
    }
   ],
   "source": [
    "today"
   ]
  },
  {
   "cell_type": "code",
   "execution_count": 25,
   "metadata": {},
   "outputs": [
    {
     "data": {
      "text/plain": [
       "range(1, 4)"
      ]
     },
     "execution_count": 25,
     "metadata": {},
     "output_type": "execute_result"
    }
   ],
   "source": [
    "range(1,4)"
   ]
  },
  {
   "cell_type": "code",
   "execution_count": 30,
   "metadata": {},
   "outputs": [],
   "source": [
    "def delete_slide(prs, slide):\n",
    "    #Make dictionary with necessary information\n",
    "    id_dict = { slide.id: [i, slide.rId] for i,slide in enumerate(prs.slides._sldIdLst) }\n",
    "    slide_id = slide.slide_id\n",
    "    prs.part.drop_rel(id_dict[slide_id][1])\n",
    "    del prs.slides._sldIdLst[id_dict[slide_id][0]]"
   ]
  },
  {
   "cell_type": "code",
   "execution_count": null,
   "metadata": {},
   "outputs": [],
   "source": []
  }
 ],
 "metadata": {
  "kernelspec": {
   "display_name": "Python 3",
   "language": "python",
   "name": "python3"
  },
  "language_info": {
   "codemirror_mode": {
    "name": "ipython",
    "version": 3
   },
   "file_extension": ".py",
   "mimetype": "text/x-python",
   "name": "python",
   "nbconvert_exporter": "python",
   "pygments_lexer": "ipython3",
   "version": "3.7.6"
  }
 },
 "nbformat": 4,
 "nbformat_minor": 4
}
