{
 "cells": [
  {
   "cell_type": "code",
   "execution_count": 153,
   "metadata": {},
   "outputs": [],
   "source": [
    "from pptx import Presentation\n",
    "from pptx.util import Cm, Pt\n",
    "\n",
    "\n",
    "\"\"\"\n",
    "Title slide is prs.slide_layouts[0]\n",
    "and slide.placeholders are:\n",
    "0 Title 1\n",
    "1 Subtitle 2\n",
    "10 Text Placeholder 3\n",
    "\n",
    "Section slide is prs.slide_layouts[1]\n",
    "and slide.placeholders are:\n",
    "0 Title 1\n",
    "\n",
    "Storyline slide is prs.slide_layouts[2]\n",
    "and slide.placeholders are:\n",
    "0 Title 2\n",
    "17 Text Placeholder 9\n",
    "28 Text Placeholder 3\n",
    "29 Text Placeholder 4\n",
    "30 Text Placeholder 5\n",
    "51 Text Placeholder 6\n",
    "52 Text Placeholder 1\n",
    "53 Text Placeholder 7\n",
    "54 Text Placeholder 8\n",
    "\n",
    "Chart slide is prs.slide_layouts[4]\n",
    "and slide.placeholders are:\n",
    "0 Title 1\n",
    "17 Text Placeholder 4\n",
    "18 Chart Placeholder 6\n",
    "19 Text Placeholder 2\n",
    "20 Text Placeholder 3\n",
    "23 Text Placeholder 5\n",
    "\"\"\"\n",
    "\n",
    "img_path = 'Images\\Placeholder.jpg'\n",
    "\n",
    "prs = Presentation(r'UTAS_template.pptx')\n",
    "blank_slide_layout = prs.slide_layouts[3]\n",
    "slide = prs.slides.add_slide(blank_slide_layout)\n",
    "\n",
    "title = slide.shapes.title\n",
    "title.text = \"Quoll\"\n",
    "\n",
    "\n",
    "\n",
    "left = Cm(5)\n",
    "height = Cm(5.5)\n",
    "pic = slide.shapes.add_picture(img_path, left, top, height=height)\n",
    "\n",
    "#prs.save('test.pptx')"
   ]
  },
  {
   "cell_type": "code",
   "execution_count": 154,
   "metadata": {},
   "outputs": [
    {
     "name": "stdout",
     "output_type": "stream",
     "text": [
      "0 Title 1\n",
      "17 Text Placeholder 4\n",
      "18 Chart Placeholder 6\n",
      "19 Text Placeholder 2\n",
      "20 Text Placeholder 3\n",
      "23 Text Placeholder 5\n"
     ]
    }
   ],
   "source": [
    "for shape in slide.placeholders:\n",
    "    print('%d %s' % (shape.placeholder_format.idx, shape.name))"
   ]
  },
  {
   "cell_type": "code",
   "execution_count": null,
   "metadata": {},
   "outputs": [],
   "source": []
  }
 ],
 "metadata": {
  "kernelspec": {
   "display_name": "Python 3",
   "language": "python",
   "name": "python3"
  },
  "language_info": {
   "codemirror_mode": {
    "name": "ipython",
    "version": 3
   },
   "file_extension": ".py",
   "mimetype": "text/x-python",
   "name": "python",
   "nbconvert_exporter": "python",
   "pygments_lexer": "ipython3",
   "version": "3.7.6"
  }
 },
 "nbformat": 4,
 "nbformat_minor": 4
}
